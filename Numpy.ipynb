{
 "cells": [
  {
   "cell_type": "code",
   "execution_count": 1,
   "id": "ee17afb5",
   "metadata": {},
   "outputs": [],
   "source": [
    "import numpy as np"
   ]
  },
  {
   "cell_type": "code",
   "execution_count": 3,
   "id": "1a87de78",
   "metadata": {},
   "outputs": [],
   "source": [
    "an_array=np.array([333,444,555])    #create 1st rank array"
   ]
  },
  {
   "cell_type": "code",
   "execution_count": 4,
   "id": "30a0e651",
   "metadata": {},
   "outputs": [
    {
     "name": "stdout",
     "output_type": "stream",
     "text": [
      "<class 'numpy.ndarray'>\n"
     ]
    }
   ],
   "source": [
    "print(type(an_array))"
   ]
  },
  {
   "cell_type": "code",
   "execution_count": 5,
   "id": "1ef7c9be",
   "metadata": {},
   "outputs": [
    {
     "data": {
      "text/plain": [
       "(3,)"
      ]
     },
     "execution_count": 5,
     "metadata": {},
     "output_type": "execute_result"
    }
   ],
   "source": [
    "an_array.shape             #test the shape of array it has just one dimension"
   ]
  },
  {
   "cell_type": "code",
   "execution_count": 6,
   "id": "c8d70732",
   "metadata": {},
   "outputs": [
    {
     "name": "stdout",
     "output_type": "stream",
     "text": [
      "333 444 555\n"
     ]
    }
   ],
   "source": [
    "print(an_array[0],an_array[1],an_array[2])"
   ]
  },
  {
   "cell_type": "code",
   "execution_count": 7,
   "id": "0c7b5ca7",
   "metadata": {},
   "outputs": [],
   "source": [
    "an_array[1]=222                                  # numpy arrays are mutable"
   ]
  },
  {
   "cell_type": "code",
   "execution_count": 8,
   "id": "590ae7ca",
   "metadata": {},
   "outputs": [
    {
     "name": "stdout",
     "output_type": "stream",
     "text": [
      "333 222 555\n"
     ]
    }
   ],
   "source": [
    "print(an_array[0],an_array[1],an_array[2])"
   ]
  },
  {
   "cell_type": "code",
   "execution_count": 9,
   "id": "60509117",
   "metadata": {},
   "outputs": [],
   "source": [
    "an_array2=np.array([[333,444,555]])"
   ]
  },
  {
   "cell_type": "code",
   "execution_count": 10,
   "id": "97ec2bd7",
   "metadata": {},
   "outputs": [
    {
     "data": {
      "text/plain": [
       "(1, 3)"
      ]
     },
     "execution_count": 10,
     "metadata": {},
     "output_type": "execute_result"
    }
   ],
   "source": [
    "an_array2.shape\n"
   ]
  },
  {
   "cell_type": "code",
   "execution_count": 11,
   "id": "d9a62d38",
   "metadata": {},
   "outputs": [],
   "source": [
    "another = np.array([[1,2,5],[4,3,6]])"
   ]
  },
  {
   "cell_type": "code",
   "execution_count": 11,
   "id": "997f8bd8",
   "metadata": {},
   "outputs": [
    {
     "data": {
      "text/plain": [
       "array([[1, 2, 5],\n",
       "       [4, 3, 6]])"
      ]
     },
     "execution_count": 11,
     "metadata": {},
     "output_type": "execute_result"
    }
   ],
   "source": [
    "another\n"
   ]
  },
  {
   "cell_type": "code",
   "execution_count": 12,
   "id": "aa8a5b3a",
   "metadata": {},
   "outputs": [
    {
     "name": "stdout",
     "output_type": "stream",
     "text": [
      "shape is in rows and columns (2, 3) resp.\n"
     ]
    }
   ],
   "source": [
    "\n",
    "print(\"shape is in rows and columns\",another.shape,\"resp.\")"
   ]
  },
  {
   "cell_type": "code",
   "execution_count": 13,
   "id": "3410140f",
   "metadata": {},
   "outputs": [
    {
     "name": "stdout",
     "output_type": "stream",
     "text": [
      "element at [0,0] 1 \n",
      "element at [0,1] 2 \n",
      "element at [1,0] 4\n"
     ]
    }
   ],
   "source": [
    "print(\"element at [0,0]\",another[0,0],\"\\nelement at [0,1]\",another[0,1],\"\\nelement at [1,0]\",another[1,0])"
   ]
  },
  {
   "cell_type": "code",
   "execution_count": 13,
   "id": "876f3c88",
   "metadata": {},
   "outputs": [],
   "source": [
    "#creating 2X2 array containing zero\n",
    "ex1=np.zeros((3,3))"
   ]
  },
  {
   "cell_type": "code",
   "execution_count": 14,
   "id": "63311522",
   "metadata": {},
   "outputs": [
    {
     "data": {
      "text/plain": [
       "array([[0., 0., 0.],\n",
       "       [0., 0., 0.],\n",
       "       [0., 0., 0.]])"
      ]
     },
     "execution_count": 14,
     "metadata": {},
     "output_type": "execute_result"
    }
   ],
   "source": [
    "ex1"
   ]
  },
  {
   "cell_type": "code",
   "execution_count": 15,
   "id": "1937f5ba",
   "metadata": {},
   "outputs": [
    {
     "data": {
      "text/plain": [
       "array([[2., 2., 2.],\n",
       "       [2., 2., 2.],\n",
       "       [2., 2., 2.]])"
      ]
     },
     "execution_count": 15,
     "metadata": {},
     "output_type": "execute_result"
    }
   ],
   "source": [
    "#declare matrix filled with particular value\n",
    "ex2=np.full((3,3),2.0)\n",
    "ex2"
   ]
  },
  {
   "cell_type": "code",
   "execution_count": 16,
   "id": "01d88f96",
   "metadata": {},
   "outputs": [
    {
     "data": {
      "text/plain": [
       "array([[1., 0., 0.],\n",
       "       [0., 1., 0.],\n",
       "       [0., 0., 1.]])"
      ]
     },
     "execution_count": 16,
     "metadata": {},
     "output_type": "execute_result"
    }
   ],
   "source": [
    "#matrix that contain diagonally one\n",
    "ex3=np.eye(3,3)\n",
    "ex3"
   ]
  },
  {
   "cell_type": "code",
   "execution_count": 17,
   "id": "e8fa2c69",
   "metadata": {},
   "outputs": [
    {
     "data": {
      "text/plain": [
       "array([[1., 1., 1.],\n",
       "       [1., 1., 1.],\n",
       "       [1., 1., 1.]])"
      ]
     },
     "execution_count": 17,
     "metadata": {},
     "output_type": "execute_result"
    }
   ],
   "source": [
    "ex4 = np.ones((3,3))    #creating array with valuue ones\n",
    "ex4"
   ]
  },
  {
   "cell_type": "code",
   "execution_count": 18,
   "id": "21b959a0",
   "metadata": {},
   "outputs": [
    {
     "data": {
      "text/plain": [
       "1.0"
      ]
     },
     "execution_count": 18,
     "metadata": {},
     "output_type": "execute_result"
    }
   ],
   "source": [
    "ex4[1,0]"
   ]
  },
  {
   "cell_type": "code",
   "execution_count": 20,
   "id": "2c515a07",
   "metadata": {},
   "outputs": [
    {
     "data": {
      "text/plain": [
       "(3, 3)"
      ]
     },
     "execution_count": 20,
     "metadata": {},
     "output_type": "execute_result"
    }
   ],
   "source": [
    "\n",
    "\n",
    "ex4.shape    #ex4 array rank 2 array i.e 2X1"
   ]
  },
  {
   "cell_type": "code",
   "execution_count": 19,
   "id": "787ea656",
   "metadata": {},
   "outputs": [
    {
     "name": "stdout",
     "output_type": "stream",
     "text": [
      "1.0\n"
     ]
    }
   ],
   "source": [
    "# which means we need to use two indexes to access the element\n",
    "\n",
    "print(ex4[0,0])\n",
    "\n"
   ]
  },
  {
   "cell_type": "code",
   "execution_count": 54,
   "id": "30b2027a",
   "metadata": {},
   "outputs": [
    {
     "data": {
      "text/plain": [
       "1.0"
      ]
     },
     "execution_count": 54,
     "metadata": {},
     "output_type": "execute_result"
    }
   ],
   "source": [
    "ex4[1,0]"
   ]
  },
  {
   "cell_type": "code",
   "execution_count": 20,
   "id": "4efa95b0",
   "metadata": {},
   "outputs": [
    {
     "data": {
      "text/plain": [
       "array([[1., 1., 1.],\n",
       "       [1., 1., 1.],\n",
       "       [1., 1., 1.]])"
      ]
     },
     "execution_count": 20,
     "metadata": {},
     "output_type": "execute_result"
    }
   ],
   "source": [
    "ex4"
   ]
  },
  {
   "cell_type": "code",
   "execution_count": 21,
   "id": "2adbff39",
   "metadata": {},
   "outputs": [
    {
     "name": "stdout",
     "output_type": "stream",
     "text": [
      "three rows and three column\n",
      " (3, 3)\n"
     ]
    }
   ],
   "source": [
    "print(\"three rows and three column\\n\",ex4.shape)"
   ]
  },
  {
   "cell_type": "code",
   "execution_count": 21,
   "id": "45f655d5",
   "metadata": {},
   "outputs": [
    {
     "data": {
      "text/plain": [
       "array([[0.25598853],\n",
       "       [0.0545607 ]])"
      ]
     },
     "execution_count": 21,
     "metadata": {},
     "output_type": "execute_result"
    }
   ],
   "source": [
    "# generate 3X3 matrix with random float values between 0 and 1\n",
    "\n",
    "ex5 = np.random.random((2,1))\n",
    "ex5"
   ]
  },
  {
   "cell_type": "code",
   "execution_count": 22,
   "id": "bc2f4f74",
   "metadata": {},
   "outputs": [
    {
     "data": {
      "text/plain": [
       "array([[11, 12, 13, 14],\n",
       "       [21, 22, 23, 24],\n",
       "       [31, 32, 33, 34]])"
      ]
     },
     "execution_count": 22,
     "metadata": {},
     "output_type": "execute_result"
    }
   ],
   "source": [
    "an_array = np.array([[11,12,13,14],[21,22,23,24],[31,32,33,34]])\n",
    "an_array"
   ]
  },
  {
   "cell_type": "markdown",
   "id": "4ebb3970",
   "metadata": {},
   "source": [
    "# rows, column\n",
    "# e.g. 4 : 6, 2:4\n",
    "# 4th and 5th rows, 2nd and 3rd columns\n"
   ]
  },
  {
   "cell_type": "code",
   "execution_count": 23,
   "id": "9af60c46",
   "metadata": {},
   "outputs": [
    {
     "name": "stdout",
     "output_type": "stream",
     "text": [
      "[[13 14]\n",
      " [23 24]]\n"
     ]
    }
   ],
   "source": [
    "print(an_array[0:2,2:4])   #[rows range - select 0,1,2 values , columns range - select 1 value only]"
   ]
  },
  {
   "cell_type": "code",
   "execution_count": 24,
   "id": "6e692348",
   "metadata": {},
   "outputs": [
    {
     "data": {
      "text/plain": [
       "array([[12, 13],\n",
       "       [22, 23]])"
      ]
     },
     "execution_count": 24,
     "metadata": {},
     "output_type": "execute_result"
    }
   ],
   "source": [
    "a_slice= an_array[0:2,1:3]\n",
    "a_slice"
   ]
  },
  {
   "cell_type": "code",
   "execution_count": 25,
   "id": "d8b2486b",
   "metadata": {},
   "outputs": [
    {
     "name": "stdout",
     "output_type": "stream",
     "text": [
      "before: 12\n",
      "after:  1000\n"
     ]
    }
   ],
   "source": [
    "print(\"before:\",an_array[0,1])     #inspect the element at 0,1\n",
    "a_slice[0,0]=1000                   # a slice is same piece of data as an_array[0,0]\n",
    "print(\"after: \",an_array[0,1])"
   ]
  },
  {
   "cell_type": "code",
   "execution_count": 26,
   "id": "7e2e584b",
   "metadata": {},
   "outputs": [
    {
     "data": {
      "text/plain": [
       "array([[  11, 1000,   13,   14],\n",
       "       [  21,   22,   23,   24],\n",
       "       [  31,   32,   33,   34]])"
      ]
     },
     "execution_count": 26,
     "metadata": {},
     "output_type": "execute_result"
    }
   ],
   "source": [
    "an_array"
   ]
  },
  {
   "cell_type": "code",
   "execution_count": 26,
   "id": "4b76cc05",
   "metadata": {},
   "outputs": [
    {
     "data": {
      "text/plain": [
       "array([[1000,   13],\n",
       "       [  22,   23]])"
      ]
     },
     "execution_count": 26,
     "metadata": {},
     "output_type": "execute_result"
    }
   ],
   "source": [
    "a_slice"
   ]
  },
  {
   "cell_type": "code",
   "execution_count": 27,
   "id": "54821e7e",
   "metadata": {},
   "outputs": [
    {
     "data": {
      "text/plain": [
       "array([[11, 12, 13, 14],\n",
       "       [21, 22, 23, 24],\n",
       "       [31, 32, 33, 34]])"
      ]
     },
     "execution_count": 27,
     "metadata": {},
     "output_type": "execute_result"
    }
   ],
   "source": [
    "#create rank 2 array of shape (3,4)\n",
    "an_array = np.array([[11,12,13,14],[21,22,23,24],[31,32,33,34]])\n",
    "\n",
    "an_array"
   ]
  },
  {
   "cell_type": "code",
   "execution_count": 28,
   "id": "13a79894",
   "metadata": {},
   "outputs": [
    {
     "name": "stdout",
     "output_type": "stream",
     "text": [
      "[21 22 23 24] (4,)\n"
     ]
    }
   ],
   "source": [
    "\n",
    "\n",
    "\n",
    "#using both integer indexing and slicing generates an array of lower rank\n",
    "row_rank1=an_array[1, :]        #rank 1 view\n",
    "print(row_rank1,row_rank1.shape)    # notice only a single []"
   ]
  },
  {
   "cell_type": "code",
   "execution_count": 28,
   "id": "b9fc726a",
   "metadata": {},
   "outputs": [
    {
     "name": "stdout",
     "output_type": "stream",
     "text": [
      "[[21 22 23 24]] (1, 4)\n"
     ]
    }
   ],
   "source": [
    "#slicing alone: generates an array of the same rank as the ann_array\n",
    "row_rank2=an_array[1:2 , :]        #rank 2 view\n",
    "print(row_rank2,row_rank2.shape)    #notice []"
   ]
  },
  {
   "cell_type": "code",
   "execution_count": 29,
   "id": "c5e4c899",
   "metadata": {},
   "outputs": [
    {
     "name": "stdout",
     "output_type": "stream",
     "text": [
      "[13 23 33] (3,)\n"
     ]
    }
   ],
   "source": [
    "col_rank1 = an_array[:,2]\n",
    "print(col_rank1,col_rank1.shape)"
   ]
  },
  {
   "cell_type": "code",
   "execution_count": 30,
   "id": "c684476a",
   "metadata": {},
   "outputs": [
    {
     "name": "stdout",
     "output_type": "stream",
     "text": [
      "[[12 13]\n",
      " [22 23]\n",
      " [32 33]] (3, 2)\n"
     ]
    }
   ],
   "source": [
    "col_rank2 = an_array[:,1:3]\n",
    "print(col_rank2,col_rank2.shape)"
   ]
  },
  {
   "cell_type": "code",
   "execution_count": 31,
   "id": "4fa96343",
   "metadata": {},
   "outputs": [
    {
     "name": "stdout",
     "output_type": "stream",
     "text": [
      "\n",
      "Original array: \n",
      "[[11 12 13]\n",
      " [21 22 23]\n",
      " [31 32 33]\n",
      " [41 42 43]]\n"
     ]
    }
   ],
   "source": [
    "an_array =np.array([[11,12,13],[21,22,23],[31,32,33],[41,42,43]])\n",
    "print(\"\\nOriginal array: \")\n",
    "print(an_array)                   "
   ]
  },
  {
   "cell_type": "code",
   "execution_count": 33,
   "id": "4aeeaf84",
   "metadata": {},
   "outputs": [
    {
     "name": "stdout",
     "output_type": "stream",
     "text": [
      "\n",
      "col indices picked:  [0 1 2 0]\n",
      "\n",
      "row indices picked:  [0 1 2 3]\n"
     ]
    }
   ],
   "source": [
    "#creating array indices\n",
    "col_indices =np.array([0,1,2,0])\n",
    "print(\"\\ncol indices picked: \",col_indices)\n",
    "row_indices=np.arange(4)                          #arrange will select (0,1,2,3)\n",
    "print(\"\\nrow indices picked: \",row_indices)"
   ]
  },
  {
   "cell_type": "code",
   "execution_count": 34,
   "id": "7c8ed95d",
   "metadata": {},
   "outputs": [
    {
     "name": "stdout",
     "output_type": "stream",
     "text": [
      "0 , 0\n",
      "1 , 1\n",
      "2 , 2\n",
      "3 , 0\n"
     ]
    },
    {
     "data": {
      "text/plain": [
       "'for i in row indices\\n     for j in column indices'"
      ]
     },
     "execution_count": 34,
     "metadata": {},
     "output_type": "execute_result"
    }
   ],
   "source": [
    "#examine the pairing of row_indices and col_indices. \n",
    "for i,j in zip (row_indices,col_indices):\n",
    "    print(i, \",\",j)\n",
    "'''for i in row indices\n",
    "     for j in column indices'''"
   ]
  },
  {
   "cell_type": "code",
   "execution_count": 35,
   "id": "2e1afd01",
   "metadata": {},
   "outputs": [
    {
     "name": "stdout",
     "output_type": "stream",
     "text": [
      "Values in the array at those indices:  [11 22 33 41]\n"
     ]
    }
   ],
   "source": [
    "#select on element from each row\n",
    "print('Values in the array at those indices: ',an_array[row_indices,col_indices])\n",
    "#an_array[0,0],an_array[1,1],an_array[2,2],an_array[3,0] =an_array[row_indices,col_indices]\n",
    "\n"
   ]
  },
  {
   "cell_type": "code",
   "execution_count": 36,
   "id": "dc8449f6",
   "metadata": {},
   "outputs": [
    {
     "name": "stdout",
     "output_type": "stream",
     "text": [
      "\n",
      "change array: \n",
      "[[10011    12    13]\n",
      " [   21 10022    23]\n",
      " [   31    32 10033]\n",
      " [10041    42    43]]\n"
     ]
    }
   ],
   "source": [
    "#change one element from each row using indices selected\n",
    "an_array[row_indices,col_indices] +=10000       #a= a+10000 same as a+=10000\n",
    "print(\"\\nchange array: \")\n",
    "print(an_array)"
   ]
  },
  {
   "cell_type": "code",
   "execution_count": 37,
   "id": "9f76c25a",
   "metadata": {},
   "outputs": [
    {
     "name": "stdout",
     "output_type": "stream",
     "text": [
      "[[23  4 34]\n",
      " [45 11 15]\n",
      " [56 27 48]]\n"
     ]
    },
    {
     "data": {
      "text/plain": [
       "array([48, 23, 11, 48])"
      ]
     },
     "execution_count": 37,
     "metadata": {},
     "output_type": "execute_result"
    }
   ],
   "source": [
    "#creating 3x2 array\n",
    "an_array=np.array([[23,4,34],[45,11,15],[56,27,48]])\n",
    "print(an_array)\n"
   ]
  },
  {
   "cell_type": "code",
   "execution_count": 37,
   "id": "db7c776c",
   "metadata": {},
   "outputs": [
    {
     "data": {
      "text/plain": [
       "array([[False,  True,  True],\n",
       "       [ True, False,  True],\n",
       "       [ True,  True, False],\n",
       "       [False, False, False]])"
      ]
     },
     "execution_count": 37,
     "metadata": {},
     "output_type": "execute_result"
    }
   ],
   "source": [
    "filter = an_array<40      #creating filter which having boolean values depend on comparison operator\n",
    "filter"
   ]
  },
  {
   "cell_type": "code",
   "execution_count": 38,
   "id": "510bf5c2",
   "metadata": {},
   "outputs": [
    {
     "name": "stdout",
     "output_type": "stream",
     "text": [
      "[12 13 21 23 31 32]\n"
     ]
    }
   ],
   "source": [
    "print(an_array[filter])      # we can show only those elements which are meeting our criteria i.e filter"
   ]
  },
  {
   "cell_type": "code",
   "execution_count": 39,
   "id": "c25eba95",
   "metadata": {},
   "outputs": [
    {
     "name": "stdout",
     "output_type": "stream",
     "text": [
      "[12 13 21 23 31 32]\n"
     ]
    }
   ],
   "source": [
    "print(an_array[an_array<40])      #we can directly use criteria in square bracket the results are same as above"
   ]
  },
  {
   "cell_type": "code",
   "execution_count": 40,
   "id": "bf34af7a",
   "metadata": {},
   "outputs": [],
   "source": [
    "an_array[an_array%2==0]+=100"
   ]
  },
  {
   "cell_type": "code",
   "execution_count": 41,
   "id": "ac1fe423",
   "metadata": {},
   "outputs": [
    {
     "data": {
      "text/plain": [
       "array([[10011,   112,    13],\n",
       "       [   21, 10122,    23],\n",
       "       [   31,   132, 10033],\n",
       "       [10041,   142,    43]])"
      ]
     },
     "execution_count": 41,
     "metadata": {},
     "output_type": "execute_result"
    }
   ],
   "source": [
    "an_array"
   ]
  },
  {
   "cell_type": "code",
   "execution_count": 42,
   "id": "d5dd60ed",
   "metadata": {},
   "outputs": [
    {
     "name": "stdout",
     "output_type": "stream",
     "text": [
      "[6, 7]\n"
     ]
    }
   ],
   "source": [
    "a = [2, 3, 6, 7, 8, 9]\n",
    "print(a[2:4])"
   ]
  },
  {
   "cell_type": "code",
   "execution_count": 82,
   "id": "0e050147",
   "metadata": {},
   "outputs": [
    {
     "name": "stdout",
     "output_type": "stream",
     "text": [
      "[[23 24]\n",
      " [33 34]]\n"
     ]
    }
   ],
   "source": [
    "array =np.array([[11,12,13,14],[21,22,23,24],[31,32,33,34]]) \n",
    "print(array[1:3,2:4])"
   ]
  },
  {
   "cell_type": "code",
   "execution_count": 83,
   "id": "1c61c577",
   "metadata": {},
   "outputs": [
    {
     "data": {
      "text/plain": [
       "array([[11, 12, 13, 14],\n",
       "       [21, 22, 23, 24],\n",
       "       [31, 32, 33, 34]])"
      ]
     },
     "execution_count": 83,
     "metadata": {},
     "output_type": "execute_result"
    }
   ],
   "source": [
    "array\n"
   ]
  },
  {
   "cell_type": "code",
   "execution_count": 45,
   "id": "9735de32",
   "metadata": {},
   "outputs": [],
   "source": [
    "#array[0:1,0:1]=\"32\""
   ]
  },
  {
   "cell_type": "code",
   "execution_count": 85,
   "id": "aae446b3",
   "metadata": {},
   "outputs": [
    {
     "data": {
      "text/plain": [
       "array([[11, 12, 13, 14],\n",
       "       [21, 22, 23, 24],\n",
       "       [31, 32, 33, 34]])"
      ]
     },
     "execution_count": 85,
     "metadata": {},
     "output_type": "execute_result"
    }
   ],
   "source": [
    "array"
   ]
  },
  {
   "cell_type": "markdown",
   "id": "56a0b8ea",
   "metadata": {},
   "source": [
    "# Reading each element in matrix with for loop"
   ]
  },
  {
   "cell_type": "code",
   "execution_count": 84,
   "id": "c9ab5168",
   "metadata": {},
   "outputs": [
    {
     "name": "stdout",
     "output_type": "stream",
     "text": [
      "this is 0 th row and 0 th column element, value is:  11\n",
      "this is 1 th row and 0 th column element, value is:  21\n",
      "this is 2 th row and 0 th column element, value is:  31\n",
      "this is 0 th row and 1 th column element, value is:  12\n",
      "this is 1 th row and 1 th column element, value is:  22\n",
      "this is 2 th row and 1 th column element, value is:  32\n",
      "this is 0 th row and 2 th column element, value is:  13\n",
      "this is 1 th row and 2 th column element, value is:  23\n",
      "this is 2 th row and 2 th column element, value is:  33\n",
      "this is 0 th row and 3 th column element, value is:  14\n",
      "this is 1 th row and 3 th column element, value is:  24\n",
      "this is 2 th row and 3 th column element, value is:  34\n"
     ]
    }
   ],
   "source": [
    "for i in range (4):\n",
    "    for j in range(3):\n",
    "        print(\"this is\",j,\"th row and\",i,\"th column element, value is: \",array[j,i])"
   ]
  },
  {
   "cell_type": "markdown",
   "id": "8e08c001",
   "metadata": {},
   "source": [
    "# Datatypes with memory size "
   ]
  },
  {
   "cell_type": "code",
   "execution_count": 48,
   "id": "97044a79",
   "metadata": {},
   "outputs": [
    {
     "name": "stdout",
     "output_type": "stream",
     "text": [
      "int32\n"
     ]
    }
   ],
   "source": [
    "ex1=np.array([11,21])     #Python assigns the datatype\n",
    "print(ex1.dtype)"
   ]
  },
  {
   "cell_type": "code",
   "execution_count": 49,
   "id": "520f96c1",
   "metadata": {},
   "outputs": [
    {
     "name": "stdout",
     "output_type": "stream",
     "text": [
      "float64\n"
     ]
    }
   ],
   "source": [
    "ex2=np.array([11.0,21.0])      #Python assigns the datatype\n",
    "print(ex2.dtype)"
   ]
  },
  {
   "cell_type": "code",
   "execution_count": 50,
   "id": "6be3af85",
   "metadata": {},
   "outputs": [
    {
     "name": "stdout",
     "output_type": "stream",
     "text": [
      "int64\n"
     ]
    }
   ],
   "source": [
    "ex3=np.array([11,21],dtype=np.int64)    #we can also assign data types\n",
    "print(ex3.dtype)"
   ]
  },
  {
   "cell_type": "code",
   "execution_count": 51,
   "id": "036bc264",
   "metadata": {},
   "outputs": [
    {
     "name": "stdout",
     "output_type": "stream",
     "text": [
      "float64\n"
     ]
    },
    {
     "data": {
      "text/plain": [
       "array([11., 12., 13.])"
      ]
     },
     "execution_count": 51,
     "metadata": {},
     "output_type": "execute_result"
    }
   ],
   "source": [
    "ex4=np.array([11,12,13],dtype=np.float64)  #we can force integer into the float check output\n",
    "print(ex4.dtype)\n",
    "ex4"
   ]
  },
  {
   "cell_type": "code",
   "execution_count": 52,
   "id": "6bc7630f",
   "metadata": {},
   "outputs": [
    {
     "name": "stdout",
     "output_type": "stream",
     "text": [
      "int32\n"
     ]
    },
    {
     "data": {
      "text/plain": [
       "array([11, 12, 13])"
      ]
     },
     "execution_count": 52,
     "metadata": {},
     "output_type": "execute_result"
    }
   ],
   "source": [
    " ex5=np.array([11.6,12.2,13.4],dtype=np.int32)  #we can force float into the integer check output\n",
    "print(ex5.dtype)\n",
    "ex5           "
   ]
  },
  {
   "cell_type": "markdown",
   "id": "036c516d",
   "metadata": {},
   "source": [
    "# Arithmatic operations in Numpy"
   ]
  },
  {
   "cell_type": "code",
   "execution_count": 53,
   "id": "83f32d76",
   "metadata": {},
   "outputs": [
    {
     "name": "stdout",
     "output_type": "stream",
     "text": [
      "[[23 24 25]\n",
      " [33 34 35]]\n",
      "\n",
      "[[11. 12. 13.]\n",
      " [41. 42. 43.]]\n"
     ]
    },
    {
     "name": "stderr",
     "output_type": "stream",
     "text": [
      "<ipython-input-53-436ae7b8bafc>:1: DeprecationWarning: `np.int` is a deprecated alias for the builtin `int`. To silence this warning, use `int` by itself. Doing this will not modify any behavior and is safe. When replacing `np.int`, you may wish to use e.g. `np.int64` or `np.int32` to specify the precision. If you wish to review your current use, check the release note link for additional information.\n",
      "Deprecated in NumPy 1.20; for more details and guidance: https://numpy.org/devdocs/release/1.20.0-notes.html#deprecations\n",
      "  x=np.array([[23,24,25],[33,34,35]],dtype=np.int)\n"
     ]
    }
   ],
   "source": [
    "x=np.array([[23,24,25],[33,34,35]],dtype=np.int)\n",
    "y=np.array([[11,12,13],[41,42,43]],dtype=np.float64)\n",
    "print(x)\n",
    "print()\n",
    "print(y)"
   ]
  },
  {
   "cell_type": "code",
   "execution_count": 87,
   "id": "4aabaa3f",
   "metadata": {},
   "outputs": [
    {
     "name": "stdout",
     "output_type": "stream",
     "text": [
      "[[34. 36. 38.]\n",
      " [74. 76. 78.]]\n",
      "\n",
      "[[34. 36. 38.]\n",
      " [74. 76. 78.]]\n"
     ]
    }
   ],
   "source": [
    "print(x  +  y)\n",
    "print()\n",
    "print(np.add(x,y))"
   ]
  },
  {
   "cell_type": "code",
   "execution_count": 55,
   "id": "e54d3456",
   "metadata": {},
   "outputs": [
    {
     "name": "stdout",
     "output_type": "stream",
     "text": [
      "[[ 253.  288.  325.]\n",
      " [1353. 1428. 1505.]]\n",
      "\n",
      "[[ 253.  288.  325.]\n",
      " [1353. 1428. 1505.]]\n"
     ]
    }
   ],
   "source": [
    "print(x  *  y)\n",
    "print()\n",
    "print(np.multiply(x,y))"
   ]
  },
  {
   "cell_type": "code",
   "execution_count": 56,
   "id": "25a54bac",
   "metadata": {},
   "outputs": [
    {
     "name": "stdout",
     "output_type": "stream",
     "text": [
      "x:  [[23 24 25]\n",
      " [33 34 35]]\n",
      "Y:  [[11. 12. 13.]\n",
      " [41. 42. 43.]]\n",
      "\n",
      "[[12. 12. 12.]\n",
      " [-8. -8. -8.]]\n",
      "\n",
      "[[12. 12. 12.]\n",
      " [-8. -8. -8.]]\n"
     ]
    }
   ],
   "source": [
    "print(\"x: \",x)\n",
    "print(\"Y: \",y)\n",
    "print()\n",
    "print(x   -   y)\n",
    "print()\n",
    "print(np.subtract(x,y))"
   ]
  },
  {
   "cell_type": "code",
   "execution_count": 57,
   "id": "d60f09e8",
   "metadata": {},
   "outputs": [
    {
     "name": "stdout",
     "output_type": "stream",
     "text": [
      "x:  [[23 24 25]\n",
      " [33 34 35]]\n",
      "Y:  [[11. 12. 13.]\n",
      " [41. 42. 43.]]\n",
      "\n",
      "[[2.09090909 2.         1.92307692]\n",
      " [0.80487805 0.80952381 0.81395349]]\n",
      "\n",
      "[[2.09090909 2.         1.92307692]\n",
      " [0.80487805 0.80952381 0.81395349]]\n"
     ]
    }
   ],
   "source": [
    "print(\"x: \",x)\n",
    "print(\"Y: \",y)\n",
    "print()\n",
    "print(x   /   y)\n",
    "print()\n",
    "print(np.divide(x,y))"
   ]
  },
  {
   "cell_type": "code",
   "execution_count": 58,
   "id": "8c211c1e",
   "metadata": {},
   "outputs": [
    {
     "name": "stdout",
     "output_type": "stream",
     "text": [
      "[[4.79583152 4.89897949 5.        ]\n",
      " [5.74456265 5.83095189 5.91607978]]\n"
     ]
    }
   ],
   "source": [
    "print(np.sqrt(x))"
   ]
  },
  {
   "cell_type": "code",
   "execution_count": 59,
   "id": "dcb77c27",
   "metadata": {},
   "outputs": [
    {
     "name": "stdout",
     "output_type": "stream",
     "text": [
      "[[9.74480345e+09 2.64891221e+10 7.20048993e+10]\n",
      " [2.14643580e+14 5.83461743e+14 1.58601345e+15]]\n"
     ]
    }
   ],
   "source": [
    "print(np.exp(x))"
   ]
  },
  {
   "cell_type": "markdown",
   "id": "314f2627",
   "metadata": {},
   "source": [
    "# Mean & Median"
   ]
  },
  {
   "cell_type": "code",
   "execution_count": 60,
   "id": "18c89c91",
   "metadata": {},
   "outputs": [
    {
     "name": "stdout",
     "output_type": "stream",
     "text": [
      "[[ 0.4773796   4.73646084 -3.9740467  -7.43185083 -9.79579583]\n",
      " [ 3.59980637 23.85869182 -8.48051668  3.11746173  5.25657566]]\n"
     ]
    }
   ],
   "source": [
    "#setup a random 2 x 5 matrix\n",
    "arr=10 * np.random.randn(2,5)\n",
    "print(arr)"
   ]
  },
  {
   "cell_type": "code",
   "execution_count": 61,
   "id": "e5b59801",
   "metadata": {},
   "outputs": [
    {
     "name": "stdout",
     "output_type": "stream",
     "text": [
      "1.1364165970925033\n"
     ]
    }
   ],
   "source": [
    "print(arr.mean())      # compute mean for all elements"
   ]
  },
  {
   "cell_type": "code",
   "execution_count": 62,
   "id": "f730c27c",
   "metadata": {},
   "outputs": [
    {
     "name": "stdout",
     "output_type": "stream",
     "text": [
      "[-3.19757058  5.47040378]\n"
     ]
    }
   ],
   "source": [
    "print(arr.mean(axis= 1))      #compute mean for all rows"
   ]
  },
  {
   "cell_type": "code",
   "execution_count": 63,
   "id": "4a27bccf",
   "metadata": {},
   "outputs": [
    {
     "name": "stdout",
     "output_type": "stream",
     "text": [
      "[ 2.03859298 14.29757633 -6.22728169 -2.15719455 -2.26961009]\n"
     ]
    }
   ],
   "source": [
    "print(arr.mean(axis= 0))       #compute mean for all columns"
   ]
  },
  {
   "cell_type": "code",
   "execution_count": 64,
   "id": "e20b7c5c",
   "metadata": {},
   "outputs": [
    {
     "name": "stdout",
     "output_type": "stream",
     "text": [
      "11.364165970925033\n"
     ]
    }
   ],
   "source": [
    "print(arr.sum())        # compute sum of all elemens in matrix"
   ]
  },
  {
   "cell_type": "code",
   "execution_count": 65,
   "id": "1816ca54",
   "metadata": {},
   "outputs": [
    {
     "name": "stdout",
     "output_type": "stream",
     "text": [
      "[-3.9740467   3.59980637]\n"
     ]
    }
   ],
   "source": [
    "print(np.median(arr,axis = 1))    #compute median for all rows here rows are 2"
   ]
  },
  {
   "cell_type": "code",
   "execution_count": 66,
   "id": "c7af1d58",
   "metadata": {},
   "outputs": [
    {
     "name": "stdout",
     "output_type": "stream",
     "text": [
      "[ 2.03859298 14.29757633 -6.22728169 -2.15719455 -2.26961009]\n"
     ]
    }
   ],
   "source": [
    "print(np.median(arr,axis = 0))    #compute median for all columns here comlumns are 5"
   ]
  },
  {
   "cell_type": "markdown",
   "id": "286f1820",
   "metadata": {},
   "source": [
    "# Sort function"
   ]
  },
  {
   "cell_type": "code",
   "execution_count": 67,
   "id": "be1a2047",
   "metadata": {},
   "outputs": [
    {
     "name": "stdout",
     "output_type": "stream",
     "text": [
      "[ 0.80035691 -0.65811865 -0.13574452 -0.29179952  1.48810859 -0.96801835\n",
      "  0.84818046  1.27630931  1.69599177  0.15262343]\n"
     ]
    }
   ],
   "source": [
    "unsorted = np.random.randn(10)    #create random array contain 10 elements\n",
    "print(unsorted)"
   ]
  },
  {
   "cell_type": "code",
   "execution_count": 68,
   "id": "cf2c266a",
   "metadata": {},
   "outputs": [
    {
     "name": "stdout",
     "output_type": "stream",
     "text": [
      "sorted vector:  [-0.96801835 -0.65811865 -0.29179952 -0.13574452  0.15262343  0.80035691\n",
      "  0.84818046  1.27630931  1.48810859  1.69599177]\n",
      "\n",
      "unsorted vector:  [ 0.80035691 -0.65811865 -0.13574452 -0.29179952  1.48810859 -0.96801835\n",
      "  0.84818046  1.27630931  1.69599177  0.15262343]\n"
     ]
    }
   ],
   "source": [
    "sorted = np.array(unsorted)\n",
    "sorted.sort()                    #it arrange values in ascending order\n",
    "print(\"sorted vector: \",sorted)\n",
    "print()\n",
    "print(\"unsorted vector: \",unsorted)"
   ]
  },
  {
   "cell_type": "code",
   "execution_count": 69,
   "id": "6483e852",
   "metadata": {},
   "outputs": [
    {
     "data": {
      "text/plain": [
       "array([-0.96801835, -0.65811865, -0.29179952, -0.13574452,  0.15262343,\n",
       "        0.80035691,  0.84818046,  1.27630931,  1.48810859,  1.69599177])"
      ]
     },
     "execution_count": 69,
     "metadata": {},
     "output_type": "execute_result"
    }
   ],
   "source": [
    "unsorted.sort()\n",
    "unsorted"
   ]
  },
  {
   "cell_type": "markdown",
   "id": "2fe235d1",
   "metadata": {},
   "source": [
    "# Unique function"
   ]
  },
  {
   "cell_type": "code",
   "execution_count": 77,
   "id": "1a805899",
   "metadata": {},
   "outputs": [
    {
     "data": {
      "text/plain": [
       "array([ 1,  2,  4,  5,  7, 21])"
      ]
     },
     "execution_count": 77,
     "metadata": {},
     "output_type": "execute_result"
    }
   ],
   "source": [
    "array=np.array([1,2,5,2,4,7,21,2,5,2])\n",
    "np.unique(array)                               #it will return unique values in array"
   ]
  },
  {
   "cell_type": "markdown",
   "id": "6cdbccef",
   "metadata": {},
   "source": [
    "# Set operations"
   ]
  },
  {
   "cell_type": "code",
   "execution_count": 71,
   "id": "71c4b8de",
   "metadata": {},
   "outputs": [
    {
     "name": "stdout",
     "output_type": "stream",
     "text": [
      "['desk' 'chair' 'bulb'] ['lamp' 'bulb' 'chair']\n"
     ]
    }
   ],
   "source": [
    "s1 = np.array(['desk','chair','bulb'])\n",
    "s2 = np.array(['lamp','bulb','chair'])\n",
    "print(s1,s2)"
   ]
  },
  {
   "cell_type": "code",
   "execution_count": 72,
   "id": "1ed1e95a",
   "metadata": {},
   "outputs": [
    {
     "name": "stdout",
     "output_type": "stream",
     "text": [
      "['bulb' 'chair']\n"
     ]
    }
   ],
   "source": [
    "print(np.intersect1d(s1,s2))      #common values in s1 and s2"
   ]
  },
  {
   "cell_type": "code",
   "execution_count": 73,
   "id": "2fae20b4",
   "metadata": {},
   "outputs": [
    {
     "name": "stdout",
     "output_type": "stream",
     "text": [
      "['bulb' 'chair' 'desk' 'lamp']\n"
     ]
    }
   ],
   "source": [
    "print(np.union1d(s1,s2))          #common and uncommon values of s1 and s2"
   ]
  },
  {
   "cell_type": "code",
   "execution_count": 74,
   "id": "133ba722",
   "metadata": {},
   "outputs": [
    {
     "name": "stdout",
     "output_type": "stream",
     "text": [
      "['desk']\n"
     ]
    }
   ],
   "source": [
    "print(np.setdiff1d(s1,s2))        #values of s1 that are not in s2"
   ]
  },
  {
   "cell_type": "code",
   "execution_count": 75,
   "id": "1be00ade",
   "metadata": {},
   "outputs": [
    {
     "name": "stdout",
     "output_type": "stream",
     "text": [
      "['lamp']\n"
     ]
    }
   ],
   "source": [
    "print(np.setdiff1d(s2,s1))   #values of s2 that are not in s1"
   ]
  },
  {
   "cell_type": "code",
   "execution_count": 76,
   "id": "4c11ce61",
   "metadata": {},
   "outputs": [
    {
     "name": "stdout",
     "output_type": "stream",
     "text": [
      "[False  True  True]\n"
     ]
    }
   ],
   "source": [
    "print(np.in1d(s1,s2))    #which elements of s1 is also in s2"
   ]
  },
  {
   "cell_type": "code",
   "execution_count": 3,
   "id": "659995db",
   "metadata": {},
   "outputs": [
    {
     "name": "stdout",
     "output_type": "stream",
     "text": [
      "[[0. 0. 0.]\n",
      " [0. 0. 0.]\n",
      " [0. 0. 0.]\n",
      " [0. 0. 0.]]\n"
     ]
    }
   ],
   "source": [
    "start=np.zeros((4,3))\n",
    "print(start)"
   ]
  },
  {
   "cell_type": "code",
   "execution_count": 4,
   "id": "01922abb",
   "metadata": {},
   "outputs": [
    {
     "data": {
      "text/plain": [
       "array([1, 0, 2])"
      ]
     },
     "execution_count": 4,
     "metadata": {},
     "output_type": "execute_result"
    }
   ],
   "source": [
    "add_rows=np.array([1,0,2])\n",
    "add_rows\n"
   ]
  },
  {
   "cell_type": "code",
   "execution_count": 5,
   "id": "89199459",
   "metadata": {},
   "outputs": [
    {
     "name": "stdout",
     "output_type": "stream",
     "text": [
      "[[1. 0. 2.]\n",
      " [1. 0. 2.]\n",
      " [1. 0. 2.]\n",
      " [1. 0. 2.]]\n"
     ]
    }
   ],
   "source": [
    "y=start + add_rows      #add each row of start using broadcasting\n",
    "print(y)"
   ]
  },
  {
   "cell_type": "code",
   "execution_count": 4,
   "id": "709b3484",
   "metadata": {},
   "outputs": [
    {
     "data": {
      "text/plain": [
       "array([[0],\n",
       "       [1],\n",
       "       [2],\n",
       "       [3]])"
      ]
     },
     "execution_count": 4,
     "metadata": {},
     "output_type": "execute_result"
    }
   ],
   "source": [
    "\n",
    "add_col=np.array([[0,1,2,3]])    \n",
    "add_col=add_col.T              # 'matrix_name.T' used for trasnpose of matrix : converts rows into columns and vice versa\n",
    "add_col"
   ]
  },
  {
   "cell_type": "code",
   "execution_count": 6,
   "id": "c969d862",
   "metadata": {},
   "outputs": [
    {
     "name": "stdout",
     "output_type": "stream",
     "text": [
      "[[0. 0. 0.]\n",
      " [0. 0. 0.]\n",
      " [0. 0. 0.]\n",
      " [0. 0. 0.]]\n",
      "[[0. 0. 0.]\n",
      " [1. 1. 1.]\n",
      " [2. 2. 2.]\n",
      " [3. 3. 3.]]\n"
     ]
    },
    {
     "data": {
      "text/plain": [
       "array([[0., 0., 0.],\n",
       "       [1., 1., 1.],\n",
       "       [2., 2., 2.],\n",
       "       [3., 3., 3.]])"
      ]
     },
     "execution_count": 6,
     "metadata": {},
     "output_type": "execute_result"
    }
   ],
   "source": [
    "\n",
    "start=np.zeros((4,3))\n",
    "print(start)\n",
    "x= start + add_col\n",
    "print(np.add(start,add_col))\n",
    "x"
   ]
  },
  {
   "cell_type": "code",
   "execution_count": 103,
   "id": "c7ec7e02",
   "metadata": {
    "scrolled": true
   },
   "outputs": [
    {
     "name": "stdout",
     "output_type": "stream",
     "text": [
      "[[1. 1. 1.]\n",
      " [1. 1. 1.]\n",
      " [1. 1. 1.]\n",
      " [1. 1. 1.]]\n"
     ]
    }
   ],
   "source": [
    "add_scalar = np.array([1])      # adding scalar : - this will broadcast in both dimensions \n",
    "print(start + add_scalar)"
   ]
  },
  {
   "cell_type": "code",
   "execution_count": 111,
   "id": "3b0c3d7d",
   "metadata": {},
   "outputs": [
    {
     "name": "stdout",
     "output_type": "stream",
     "text": [
      "Array 1 is :\n",
      "  [[12 13 14 15]\n",
      " [21 22 23 24]\n",
      " [31 32 33 34]]\n",
      "Array 2 is : \n",
      " [1 2 3 4]\n",
      "Sum of both array is :\n",
      " [[13 15 17 19]\n",
      " [22 24 26 28]\n",
      " [32 34 36 38]]\n"
     ]
    }
   ],
   "source": [
    "array1 = np.array([[12,13,14,15],[21,22,23,24],[31,32,33,34]])\n",
    "array2 = np.array([1,2,3,4])\n",
    "print(\"Array 1 is :\\n \",array1)\n",
    "print(\"Array 2 is : \\n\",array2)\n",
    "print(\"Sum of both array is :\\n\",array1 + array2)"
   ]
  },
  {
   "cell_type": "markdown",
   "id": "b3f9cb2c",
   "metadata": {},
   "source": [
    "# Checking time require to process array and list"
   ]
  },
  {
   "cell_type": "code",
   "execution_count": 8,
   "id": "35e40c92",
   "metadata": {},
   "outputs": [],
   "source": [
    "from numpy import arange       # you can neglect this if numpy is already imported\n",
    "from timeit import Timer\n",
    "size = 1000000\n",
    "timeits =1000\n",
    "\n"
   ]
  },
  {
   "cell_type": "code",
   "execution_count": 130,
   "id": "d4f0d470",
   "metadata": {},
   "outputs": [
    {
     "name": "stdout",
     "output_type": "stream",
     "text": [
      "<class 'numpy.ndarray'>\n"
     ]
    }
   ],
   "source": [
    "nd_array = arange(size)     # nd_array will get values upto size-1 i.e 1,2,3.......,size-1\n",
    "print(type(nd_array))"
   ]
  },
  {
   "cell_type": "code",
   "execution_count": 131,
   "id": "c8a644fa",
   "metadata": {},
   "outputs": [
    {
     "name": "stdout",
     "output_type": "stream",
     "text": [
      "Time taken by numpy ndarray: 0.001006 seconds\n"
     ]
    }
   ],
   "source": [
    "#Timer expects the operation as parameter,\n",
    "#here we pass nd_array.sum()\n",
    "\n",
    "timer_numpy = Timer(\"nd_array.sum()\",\"from __main__ import nd_array\")\n",
    "print(\"Time taken by numpy ndarray: %f seconds\"%\n",
    "      (timer_numpy.timeit(timeits)/timeits))"
   ]
  },
  {
   "cell_type": "code",
   "execution_count": 9,
   "id": "6da07f4b",
   "metadata": {},
   "outputs": [
    {
     "data": {
      "text/plain": [
       "list"
      ]
     },
     "execution_count": 9,
     "metadata": {},
     "output_type": "execute_result"
    }
   ],
   "source": [
    "a_list = list(arange(size))     #list contain 1000000 values\n",
    "type(a_list)\n"
   ]
  },
  {
   "cell_type": "code",
   "execution_count": 5,
   "id": "4a4da2a6",
   "metadata": {},
   "outputs": [
    {
     "name": "stderr",
     "output_type": "stream",
     "text": [
      "<timeit-src>:6: RuntimeWarning: overflow encountered in long_scalars\n"
     ]
    },
    {
     "name": "stdout",
     "output_type": "stream",
     "text": [
      "Time taken by list: 0.106475 seconds\n"
     ]
    }
   ],
   "source": [
    "timer_list = Timer(\"sum(a_list)\",\"from __main__ import a_list\")\n",
    "print(\"Time taken by list: %f seconds\"%\n",
    "      (timer_list.timeit(timeits)/timeits))              #Array having better time complexity than list"
   ]
  },
  {
   "cell_type": "code",
   "execution_count": null,
   "id": "98b6e9a0",
   "metadata": {},
   "outputs": [],
   "source": []
  },
  {
   "cell_type": "code",
   "execution_count": 7,
   "id": "bccc27bc",
   "metadata": {},
   "outputs": [
    {
     "data": {
      "text/plain": [
       "array([1, 2, 3, 4])"
      ]
     },
     "execution_count": 7,
     "metadata": {},
     "output_type": "execute_result"
    }
   ],
   "source": [
    "x = np.array([1,2,3,4])\n",
    "np.save('save_array',x)             #all elements in x will be saved in save_array\n",
    "np.load('save_array.npy')           #''Load' : to retrieve elements in save_array"
   ]
  },
  {
   "cell_type": "code",
   "execution_count": 15,
   "id": "b1c128fa",
   "metadata": {},
   "outputs": [
    {
     "name": "stdout",
     "output_type": "stream",
     "text": [
      "[[1 1]\n",
      " [1 1]]\n",
      "\n",
      " [[2 2]\n",
      " [2 2]]\n",
      "\n",
      " [[4 4]\n",
      " [4 4]]\n",
      "\n",
      "[[4 4]\n",
      " [4 4]]\n"
     ]
    }
   ],
   "source": [
    "x2d = np.array([[1,1],[1,1]])\n",
    "y2d= np.array([[2,2],[2,2]])\n",
    "\n",
    "print(x2d)\n",
    "print(\"\\n\",y2d)\n",
    "print(\"\\n\",x2d.dot(y2d))\n",
    "print()\n",
    "print(np.dot(x2d,y2d))"
   ]
  },
  {
   "cell_type": "code",
   "execution_count": 14,
   "id": "123a97dd",
   "metadata": {},
   "outputs": [
    {
     "name": "stdout",
     "output_type": "stream",
     "text": [
      "[[1 2]\n",
      " [3 4]]\n",
      "[[4 6]\n",
      " [4 6]]\n"
     ]
    }
   ],
   "source": [
    "ex1 = np.array([[1,2],[3,4]])\n",
    "print(ex1)\n",
    "print(np.dot(x2d,ex1))"
   ]
  },
  {
   "cell_type": "code",
   "execution_count": 15,
   "id": "a6c5a098",
   "metadata": {},
   "outputs": [
    {
     "name": "stdout",
     "output_type": "stream",
     "text": [
      "180\n",
      "\n",
      "180\n"
     ]
    }
   ],
   "source": [
    "a1d = np.array([9,9])\n",
    "b1d = np.array([10,10])\n",
    "print(a1d.dot(b1d))\n",
    "print()\n",
    "print(np.dot(a1d,b1d))"
   ]
  },
  {
   "cell_type": "code",
   "execution_count": 17,
   "id": "af657d15",
   "metadata": {},
   "outputs": [
    {
     "name": "stdout",
     "output_type": "stream",
     "text": [
      "[18 18]\n",
      "\n",
      "[18 18]\n"
     ]
    }
   ],
   "source": [
    "    #dot product on array and vector\n",
    "print(x2d.dot(a1d))  #[9,9] ,  [1,1],[1,1] [1*9+1*9,1*9+1*9] = [18,18]\n",
    "print()\n",
    "print(np.dot(x2d,a1d))\n",
    "    "
   ]
  },
  {
   "cell_type": "code",
   "execution_count": 16,
   "id": "f204ba59",
   "metadata": {},
   "outputs": [
    {
     "name": "stdout",
     "output_type": "stream",
     "text": [
      "[[11 12]\n",
      " [13 14]]\n",
      "50\n",
      "[23 27]\n",
      "[24 26]\n"
     ]
    }
   ],
   "source": [
    "ex2 = np.array([[11,12],[13,14]])\n",
    "print(ex2)\n",
    "print(np.sum(ex2))              #sum of all elements\n",
    "print(np.sum(ex2,axis =1))      #rowwise sum\n",
    "print(np.sum(ex2,axis =0))      #columnwise sum"
   ]
  },
  {
   "cell_type": "code",
   "execution_count": 25,
   "id": "a28f1fd3",
   "metadata": {},
   "outputs": [
    {
     "name": "stdout",
     "output_type": "stream",
     "text": [
      "[ 0.11086968  0.82468602 -0.70693098 -0.92815915 -1.18763887 -0.79669943\n",
      "  0.4736011  -1.73418987]\n",
      "[ 0.19729417  0.82380191  0.14631034  1.57526594 -0.73608376  0.1197551\n",
      " -0.11503263  0.5168954 ]\n"
     ]
    },
    {
     "data": {
      "text/plain": [
       "array([ 0.19729417,  0.82468602,  0.14631034,  1.57526594, -0.73608376,\n",
       "        0.1197551 ,  0.4736011 ,  0.5168954 ])"
      ]
     },
     "execution_count": 25,
     "metadata": {},
     "output_type": "execute_result"
    }
   ],
   "source": [
    "x = np.random.randn(8)\n",
    "y=np.random.randn(8)\n",
    "print(x)\n",
    "print(y)\n",
    "np.maximum(x,y)               #retrun element wise maximum value "
   ]
  },
  {
   "cell_type": "code",
   "execution_count": 20,
   "id": "8f49ef16",
   "metadata": {},
   "outputs": [
    {
     "name": "stdout",
     "output_type": "stream",
     "text": [
      "[ 0  1  2  3  4  5  6  7  8  9 10 11 12 13 14 15 16 17 18 19]\n",
      "[[ 0  1  2  3  4]\n",
      " [ 5  6  7  8  9]\n",
      " [10 11 12 13 14]\n",
      " [15 16 17 18 19]]\n"
     ]
    }
   ],
   "source": [
    "arr= np.arange(20)\n",
    "print(arr)\n",
    "\n",
    "a=arr.reshape(4,5)               #reshape built 4X5 martrix of arr values\n",
    "print(a)\n",
    "\n"
   ]
  },
  {
   "cell_type": "code",
   "execution_count": 33,
   "id": "4261572b",
   "metadata": {},
   "outputs": [
    {
     "data": {
      "text/plain": [
       "array([[ 0,  5, 10, 15],\n",
       "       [ 1,  6, 11, 16],\n",
       "       [ 2,  7, 12, 17],\n",
       "       [ 3,  8, 13, 18],\n",
       "       [ 4,  9, 14, 19]])"
      ]
     },
     "execution_count": 33,
     "metadata": {},
     "output_type": "execute_result"
    }
   ],
   "source": [
    "a.T                          #'T' used for transpose"
   ]
  },
  {
   "cell_type": "code",
   "execution_count": 21,
   "id": "98bba41a",
   "metadata": {},
   "outputs": [],
   "source": [
    "x_1 = np.array([1,2,3,4,5])\n",
    "y_1=np.array([11,22,33,44,55])\n",
    "#where we have true in filter it will print x_1 value and if it is false then print y_1 value\n",
    "#this is working of .where funtion\n",
    "filter = np.array([True,False,True,True,False])\n"
   ]
  },
  {
   "cell_type": "code",
   "execution_count": 22,
   "id": "4d4abcc5",
   "metadata": {},
   "outputs": [
    {
     "name": "stdout",
     "output_type": "stream",
     "text": [
      "[ 1 22  3  4 55]\n"
     ]
    }
   ],
   "source": [
    "out = np.where(filter,x_1,y_1)\n",
    "print(out)"
   ]
  },
  {
   "cell_type": "code",
   "execution_count": 23,
   "id": "b9e68b8c",
   "metadata": {},
   "outputs": [
    {
     "data": {
      "text/plain": [
       "array([[-0.55645831,  0.30373446, -0.80746142, -1.0295092 , -0.18968914],\n",
       "       [ 0.33977941,  2.08739216,  0.42923099, -1.26171593,  0.4686581 ],\n",
       "       [-1.65551155, -2.13856002,  0.20953878,  0.4406498 , -0.00406672],\n",
       "       [-0.15198945, -1.62558661,  1.02047254,  0.39355018,  1.09457253],\n",
       "       [-0.73304752,  0.09359133, -1.3100316 ,  0.71485926, -1.33807252]])"
      ]
     },
     "execution_count": 23,
     "metadata": {},
     "output_type": "execute_result"
    }
   ],
   "source": [
    "mat = np.random.randn(5,5)\n",
    "mat"
   ]
  },
  {
   "cell_type": "code",
   "execution_count": 25,
   "id": "ce8e61dd",
   "metadata": {},
   "outputs": [
    {
     "data": {
      "text/plain": [
       "array([[  -1,   -1,   -1,   -1,   -1],\n",
       "       [  -1, 1000,   -1,   -1,   -1],\n",
       "       [  -1,   -1,   -1,   -1,   -1],\n",
       "       [  -1,   -1, 1000,   -1, 1000],\n",
       "       [  -1,   -1,   -1, 1000,   -1]])"
      ]
     },
     "execution_count": 25,
     "metadata": {},
     "output_type": "execute_result"
    }
   ],
   "source": [
    "np.where(mat>0.5,1000,-1)"
   ]
  },
  {
   "cell_type": "code",
   "execution_count": 27,
   "id": "e2f7f50b",
   "metadata": {},
   "outputs": [
    {
     "data": {
      "text/plain": [
       "'\\nif mat > 0.5\\n  replace it with 1000\\nelse\\nreplace it with -1\\n'"
      ]
     },
     "execution_count": 27,
     "metadata": {},
     "output_type": "execute_result"
    }
   ],
   "source": [
    "'''\n",
    "if mat > 0.5\n",
    "  replace it with 1000\n",
    "else\n",
    "replace it with -1\n",
    "'''"
   ]
  },
  {
   "cell_type": "code",
   "execution_count": 28,
   "id": "ceab2665",
   "metadata": {},
   "outputs": [
    {
     "data": {
      "text/plain": [
       "True"
      ]
     },
     "execution_count": 28,
     "metadata": {},
     "output_type": "execute_result"
    }
   ],
   "source": [
    "arr_bool = np.array([True,False,True,True,False])\n",
    "\n",
    "arr_bool.any()                  # it means is any value is True?"
   ]
  },
  {
   "cell_type": "code",
   "execution_count": 29,
   "id": "e0fa3dac",
   "metadata": {},
   "outputs": [
    {
     "data": {
      "text/plain": [
       "False"
      ]
     },
     "execution_count": 29,
     "metadata": {},
     "output_type": "execute_result"
    }
   ],
   "source": [
    "arr_bool.all()                    #it means is all value is True?"
   ]
  },
  {
   "cell_type": "code",
   "execution_count": 30,
   "id": "a97cc50c",
   "metadata": {},
   "outputs": [
    {
     "name": "stdout",
     "output_type": "stream",
     "text": [
      "[[ 0.29697575 -0.78167699  1.37477073 -0.85629268  0.66614306]]\n"
     ]
    }
   ],
   "source": [
    "y=np.random.normal(size=(1,5))\n",
    "\n",
    "print(y)"
   ]
  },
  {
   "cell_type": "code",
   "execution_count": 31,
   "id": "8df7f7e4",
   "metadata": {
    "scrolled": true
   },
   "outputs": [
    {
     "name": "stdout",
     "output_type": "stream",
     "text": [
      "[ 9 10 38 11]\n"
     ]
    }
   ],
   "source": [
    "z=np.random.randint(low=2,high = 50,size=4)     # integer values\n",
    "print(z)                                        #low for minimum value and high for maximum value"
   ]
  },
  {
   "cell_type": "code",
   "execution_count": 32,
   "id": "c0681f2f",
   "metadata": {},
   "outputs": [
    {
     "data": {
      "text/plain": [
       "array([ 9, 38, 11, 10])"
      ]
     },
     "execution_count": 32,
     "metadata": {},
     "output_type": "execute_result"
    }
   ],
   "source": [
    "np.random.permutation(z)     # return re ordered form of z"
   ]
  },
  {
   "cell_type": "code",
   "execution_count": 33,
   "id": "46777b38",
   "metadata": {},
   "outputs": [
    {
     "data": {
      "text/plain": [
       "array([0.87686595, 0.8822765 , 0.52940517, 0.93562458])"
      ]
     },
     "execution_count": 33,
     "metadata": {},
     "output_type": "execute_result"
    }
   ],
   "source": [
    "np.random.uniform(size=4)   #for uniform distribution\n"
   ]
  },
  {
   "cell_type": "code",
   "execution_count": 34,
   "id": "52ea94dd",
   "metadata": {},
   "outputs": [
    {
     "data": {
      "text/plain": [
       "array([ 0.33811374,  1.5504455 , -0.5153913 , -0.4683903 ])"
      ]
     },
     "execution_count": 34,
     "metadata": {},
     "output_type": "execute_result"
    }
   ],
   "source": [
    "np.random.normal(size=4)   #for normal distribution"
   ]
  },
  {
   "cell_type": "code",
   "execution_count": 41,
   "id": "70e43781",
   "metadata": {},
   "outputs": [
    {
     "name": "stdout",
     "output_type": "stream",
     "text": [
      "[[42 44]\n",
      " [43 16]]\n",
      "[[25 28]\n",
      " [33 41]]\n"
     ]
    }
   ],
   "source": [
    "k=np.random.randint(low=2,high=50,size=(2,2))\n",
    "print(k)\n",
    "l=np.random.randint(low=2,high=50,size=(2,2))\n",
    "print(l)"
   ]
  },
  {
   "cell_type": "code",
   "execution_count": 42,
   "id": "b07bd04f",
   "metadata": {},
   "outputs": [
    {
     "data": {
      "text/plain": [
       "array([[42, 44],\n",
       "       [43, 16],\n",
       "       [25, 28],\n",
       "       [33, 41]])"
      ]
     },
     "execution_count": 42,
     "metadata": {},
     "output_type": "execute_result"
    }
   ],
   "source": [
    "np.vstack((k,l))      #join two matrices vertically"
   ]
  },
  {
   "cell_type": "code",
   "execution_count": 38,
   "id": "417ca4bf",
   "metadata": {},
   "outputs": [
    {
     "data": {
      "text/plain": [
       "array([[26,  7, 26, 27],\n",
       "       [ 6, 25, 13, 45]])"
      ]
     },
     "execution_count": 38,
     "metadata": {},
     "output_type": "execute_result"
    }
   ],
   "source": [
    "np.hstack((k,l))               #join two matrices horizontally"
   ]
  },
  {
   "cell_type": "code",
   "execution_count": 43,
   "id": "75c9793e",
   "metadata": {},
   "outputs": [
    {
     "data": {
      "text/plain": [
       "array([[42, 44],\n",
       "       [43, 16],\n",
       "       [25, 28],\n",
       "       [33, 41]])"
      ]
     },
     "execution_count": 43,
     "metadata": {},
     "output_type": "execute_result"
    }
   ],
   "source": [
    "np.concatenate([k,l],axis = 0)"
   ]
  },
  {
   "cell_type": "code",
   "execution_count": 48,
   "id": "f72b0266",
   "metadata": {},
   "outputs": [
    {
     "data": {
      "text/plain": [
       "array([[42, 44, 25, 33],\n",
       "       [43, 16, 28, 41]])"
      ]
     },
     "execution_count": 48,
     "metadata": {},
     "output_type": "execute_result"
    }
   ],
   "source": [
    "np.concatenate([k,l.T],axis = 1)"
   ]
  },
  {
   "cell_type": "code",
   "execution_count": null,
   "id": "2b001a41",
   "metadata": {},
   "outputs": [],
   "source": []
  }
 ],
 "metadata": {
  "kernelspec": {
   "display_name": "Python 3",
   "language": "python",
   "name": "python3"
  },
  "language_info": {
   "codemirror_mode": {
    "name": "ipython",
    "version": 3
   },
   "file_extension": ".py",
   "mimetype": "text/x-python",
   "name": "python",
   "nbconvert_exporter": "python",
   "pygments_lexer": "ipython3",
   "version": "3.8.8"
  }
 },
 "nbformat": 4,
 "nbformat_minor": 5
}
